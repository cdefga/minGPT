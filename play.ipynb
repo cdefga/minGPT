{
 "cells": [
  {
   "cell_type": "code",
   "execution_count": 1,
   "metadata": {},
   "outputs": [
    {
     "output_type": "stream",
     "name": "stdout",
     "text": [
      "/home/cdefga/Virtualenvs/pytorch/bin/python\n"
     ]
    }
   ],
   "source": [
    "!which python"
   ]
  },
  {
   "cell_type": "code",
   "execution_count": 2,
   "metadata": {},
   "outputs": [],
   "source": [
    "import mingpt\n",
    "import torch\n",
    "import torch.nn as nn\n",
    "import torch.nn.functional as F\n",
    "import random\n",
    "import numpy as np"
   ]
  },
  {
   "cell_type": "code",
   "execution_count": 3,
   "metadata": {},
   "outputs": [],
   "source": [
    "def set_seed(seed):\n",
    "    random.seed(seed)\n",
    "    np.random.seed(seed)\n",
    "    torch.manual_seed(seed)\n",
    "    torch.cuda.manual_seed_all(seed)\n",
    "set_seed(42)"
   ]
  },
  {
   "cell_type": "code",
   "execution_count": 13,
   "metadata": {},
   "outputs": [
    {
     "output_type": "execute_result",
     "data": {
      "text/plain": [
       "[('weight',\n",
       "  Parameter containing:\n",
       "  tensor([[ 0.4319, -0.0744,  0.2979,  ...,  0.2936,  0.4661, -0.7369],\n",
       "          [-1.1657,  0.9033,  0.9482,  ...,  0.0425, -1.9322,  0.6070],\n",
       "          [ 0.1320, -1.0045,  0.1248,  ..., -0.6141, -1.3034,  0.4951],\n",
       "          ...,\n",
       "          [-1.6529, -1.4641,  0.0971,  ..., -0.3819, -1.9647,  0.4475],\n",
       "          [-1.7090,  0.4627, -0.6896,  ...,  1.1739, -1.1229,  1.9909],\n",
       "          [-0.2225,  0.4117,  0.5883,  ...,  0.9528,  0.3781, -1.6078]],\n",
       "         requires_grad=True))]"
      ]
     },
     "metadata": {},
     "execution_count": 13
    }
   ],
   "source": [
    "tok_emb = nn.Embedding(10, 128)\n",
    "list(tok_emb.named_parameters())"
   ]
  },
  {
   "cell_type": "code",
   "execution_count": 5,
   "metadata": {},
   "outputs": [
    {
     "output_type": "execute_result",
     "data": {
      "text/plain": [
       "torch.Size([6, 128])"
      ]
     },
     "metadata": {},
     "execution_count": 5
    }
   ],
   "source": [
    "input = torch.LongTensor([i for i in range(6)])\n",
    "tok_emb(input).size()"
   ]
  },
  {
   "cell_type": "code",
   "execution_count": 6,
   "metadata": {},
   "outputs": [],
   "source": [
    "pos_emb = nn.Parameter(torch.zeros(1, 6, 6))"
   ]
  },
  {
   "cell_type": "code",
   "execution_count": 7,
   "metadata": {},
   "outputs": [
    {
     "output_type": "execute_result",
     "data": {
      "text/plain": [
       "(Parameter containing:\n",
       " tensor([[[0., 0., 0., 0., 0., 0.],\n",
       "          [0., 0., 0., 0., 0., 0.],\n",
       "          [0., 0., 0., 0., 0., 0.],\n",
       "          [0., 0., 0., 0., 0., 0.],\n",
       "          [0., 0., 0., 0., 0., 0.],\n",
       "          [0., 0., 0., 0., 0., 0.]]], requires_grad=True),\n",
       " torch.Size([1, 6, 6]))"
      ]
     },
     "metadata": {},
     "execution_count": 7
    }
   ],
   "source": [
    "pos_emb, pos_emb.size()"
   ]
  },
  {
   "cell_type": "code",
   "execution_count": null,
   "metadata": {},
   "outputs": [],
   "source": []
  }
 ],
 "metadata": {
  "kernelspec": {
   "display_name": "Python 3",
   "language": "python",
   "name": "python3"
  },
  "language_info": {
   "codemirror_mode": {
    "name": "ipython",
    "version": 3
   },
   "file_extension": ".py",
   "mimetype": "text/x-python",
   "name": "python",
   "nbconvert_exporter": "python",
   "pygments_lexer": "ipython3",
   "version": "3.8.0-final"
  }
 },
 "nbformat": 4,
 "nbformat_minor": 4
}